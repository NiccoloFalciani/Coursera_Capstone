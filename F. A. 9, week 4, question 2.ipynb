{
    "cells": [
        {
            "cell_type": "markdown",
            "metadata": {
                "collapsed": true
            },
            "source": "<h1>Comparing neighborhoods in Rome and Milan<h1>"
        },
        {
            "cell_type": "markdown",
            "metadata": {},
            "source": "<h2>Description of the data<h2>"
        },
        {
            "cell_type": "markdown",
            "metadata": {},
            "source": "For both Rome and Milan, a list of all their neighborhoods (\"municipi\") is available on Wikipedia. Therefore, we will refer to the tables on these two webpages:\n\n- Rome: https://it.wikipedia.org/wiki/Municipi_di_Roma\n\n- Milan: https://it.wikipedia.org/wiki/Municipi_di_Milano\n\nBoth websites contain a table reporting each neighborhood's name, area, population, population density and suburbs. \n\nUsing the Foursquare location data, we will retrieve the longitude and latitude coordinates of each neighborhood. This will enable us to explore the most common venues in each one of them and cluster them appropriately.\n\nFinally, we will obtain a clear and detailed picture of the two cities, which will help us understand what their strenghts are and how they differ from each other."
        },
        {
            "cell_type": "code",
            "execution_count": null,
            "metadata": {},
            "outputs": [],
            "source": ""
        }
    ],
    "metadata": {
        "kernelspec": {
            "display_name": "Python 3.6",
            "language": "python",
            "name": "python3"
        },
        "language_info": {
            "codemirror_mode": {
                "name": "ipython",
                "version": 3
            },
            "file_extension": ".py",
            "mimetype": "text/x-python",
            "name": "python",
            "nbconvert_exporter": "python",
            "pygments_lexer": "ipython3",
            "version": "3.6.9"
        }
    },
    "nbformat": 4,
    "nbformat_minor": 1
}