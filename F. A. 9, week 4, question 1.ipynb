{
    "cells": [
        {
            "cell_type": "markdown",
            "metadata": {
                "collapsed": true
            },
            "source": "<h1>Comparing neighborhoods in Rome and Milan<h1>"
        },
        {
            "cell_type": "markdown",
            "metadata": {},
            "source": "<h2>Business problem<h2>"
        },
        {
            "cell_type": "markdown",
            "metadata": {},
            "source": "Rome and Milan are the two biggest cities in Italy. They are the only cities in Italy with more than 1 million inhabitants, both of them very multicultural and thanks to the opportunities which they offer, they are able to attract many people from in and outside Italy, who decide to move there for professional or personal reasons.\n\nIn spite of being quite similar to each other, there are some differences between these two cities. For example, Rome is considered to be mainly the political center of the country, while Milan represents its economic and financial center. Certainly, these differences are evident in the characteristics of these two cities' neighborhoods, but we would like to learn more about this issue.\n\nIn order to provide people who want to move to one of these two cities with helpful information about their main features and their neighborhoods, we will conduct an analysis of these two areas by determining the most common venues in each of their neighborhoods (Italian: \"municipalit\u00e0\").\n\nThe results of our analysis can be interesting for everyone who plans to move to one of these two cities. Also, it can be used by the local governments of Rome and Milan to help potential new citizens or companies willing to invest in one of these two cities find the best place where to open their activities. \n\nThanks to the results of our analysis, we hope to achieve mainly two goals:\n\n- making a choice between Rome and Milan easier by providing more details about the differences between these two cities;\n\n- making it easier to find the best neighborhood in Rome or Milan where to live or start a business."
        },
        {
            "cell_type": "code",
            "execution_count": null,
            "metadata": {},
            "outputs": [],
            "source": ""
        }
    ],
    "metadata": {
        "kernelspec": {
            "display_name": "Python 3.6",
            "language": "python",
            "name": "python3"
        },
        "language_info": {
            "codemirror_mode": {
                "name": "ipython",
                "version": 3
            },
            "file_extension": ".py",
            "mimetype": "text/x-python",
            "name": "python",
            "nbconvert_exporter": "python",
            "pygments_lexer": "ipython3",
            "version": "3.6.9"
        }
    },
    "nbformat": 4,
    "nbformat_minor": 1
}