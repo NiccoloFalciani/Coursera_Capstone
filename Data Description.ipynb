{
    "cells": [
        {
            "cell_type": "markdown",
            "metadata": {
                "collapsed": true
            },
            "source": "<h1>Clustering Rome's Neighborhoods<h1>"
        },
        {
            "cell_type": "markdown",
            "metadata": {},
            "source": "<h2>Data Description<h2>"
        },
        {
            "cell_type": "markdown",
            "metadata": {},
            "source": "I mainly used two data sources:\n\n1. I created an **xsl file** with a table providing information about each neighborhood in Rome. In each row of the table, you can find the neighborhood's **number** (from 1 to 35), its **name** (e. g. \"Parioli\") and its **geographical coordinates** (latitude and longitude). Since I was not able to find a dataframe containing the geographical coordinates of each neighborhood, I visited the **Wikipedia** page https://it.wikipedia.org/wiki/Quartieri_di_Roma. There, I found a list of all the neighborhoods and by clicking on the neighborhood's name, I found its geographical coordinates in decimal form reported on the upper right side of the page. By copying this data for each neighborhood, I was finally able to create an xsl that I could work with on Python.\n\n\n2. I used the **Foursquare API** to find out the 10 most common venues for each neighborhood and saved this data in a dataframe in order to cluster the neighborhoods and visualize my results on a map."
        },
        {
            "cell_type": "code",
            "execution_count": null,
            "metadata": {},
            "outputs": [],
            "source": ""
        }
    ],
    "metadata": {
        "kernelspec": {
            "display_name": "Python 3.6",
            "language": "python",
            "name": "python3"
        },
        "language_info": {
            "codemirror_mode": {
                "name": "ipython",
                "version": 3
            },
            "file_extension": ".py",
            "mimetype": "text/x-python",
            "name": "python",
            "nbconvert_exporter": "python",
            "pygments_lexer": "ipython3",
            "version": "3.6.9"
        }
    },
    "nbformat": 4,
    "nbformat_minor": 1
}