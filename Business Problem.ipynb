{
    "cells": [
        {
            "cell_type": "markdown",
            "metadata": {
                "collapsed": true
            },
            "source": "<h1>Clustering Rome's Neighborhoods<h1>"
        },
        {
            "cell_type": "markdown",
            "metadata": {},
            "source": "<h2>Business Problem<h2>"
        },
        {
            "cell_type": "markdown",
            "metadata": {},
            "source": "**Rome** is the capital city of **Italy**. With a population of almost **3 million** inhabitants, it is the biggest city in the country and in the last few decades, it has been attracting people both from the rest of Italy and from abroad. \n\nBecause of this, Rome has become a very complex city. It comprizes **35 neighborhoods** which are very different from each other, therefore it can be quite challenging for somebody who wants to move to Rome to decide in which neighborhood to move or for an entrepreneur to find out what could be the best part of the city where to start their business.\n\nThis project wants to provide some help in answering these questions. It aims to do this by dividing Rome's neighborhoods into **5 clusters** after determining the most common venues for each neighborhood.\n\nThe results can be interesting for **Rome's local government** in order to provide new **potential citizens or entrepreneurs** with the information which they will possibly need before moving to the Eternal City or starting an economic activity there."
        },
        {
            "cell_type": "code",
            "execution_count": null,
            "metadata": {},
            "outputs": [],
            "source": ""
        }
    ],
    "metadata": {
        "kernelspec": {
            "display_name": "Python 3.6",
            "language": "python",
            "name": "python3"
        },
        "language_info": {
            "codemirror_mode": {
                "name": "ipython",
                "version": 3
            },
            "file_extension": ".py",
            "mimetype": "text/x-python",
            "name": "python",
            "nbconvert_exporter": "python",
            "pygments_lexer": "ipython3",
            "version": "3.6.9"
        }
    },
    "nbformat": 4,
    "nbformat_minor": 1
}